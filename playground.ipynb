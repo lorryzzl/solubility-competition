{
 "cells": [
  {
   "cell_type": "code",
   "execution_count": null,
   "metadata": {},
   "outputs": [],
   "source": [
    "%load_ext autoreload\n",
    "%autoreload 2"
   ]
  },
  {
   "cell_type": "code",
   "execution_count": null,
   "metadata": {},
   "outputs": [],
   "source": [
    "from competition import get_data, process_data, get_model, evaluate_model"
   ]
  },
  {
   "cell_type": "code",
   "execution_count": null,
   "metadata": {},
   "outputs": [],
   "source": [
    "data = get_data()"
   ]
  },
  {
   "cell_type": "code",
   "execution_count": null,
   "metadata": {},
   "outputs": [],
   "source": [
    "# first process the training data\n",
    "train_data = data[\"train\"]\n",
    "X_train, Y_train = process_data(train_data)"
   ]
  },
  {
   "cell_type": "code",
   "execution_count": null,
   "metadata": {},
   "outputs": [],
   "source": [
    "# now train the model\n",
    "model = get_model(X_train, Y_train)\n",
    "\n",
    "print(\"Training results:\")\n",
    "evaluate_model(model, X_train, Y_train)"
   ]
  },
  {
   "cell_type": "code",
   "execution_count": null,
   "metadata": {},
   "outputs": [],
   "source": [
    "# now test the model on either the valid or test split\n",
    "# Only use the valid split when developing your model!\n",
    "# Once you use the test split, you must submit your score\n",
    "# immediately, regardless of its performance\n",
    "split_name = \"valid\"\n",
    "X_split, Y_split = process_data(data[split_name])\n",
    "print(f\"Results for split {split_name}:\")\n",
    "evaluate_model(model, X_split, Y_split)"
   ]
  }
 ],
 "metadata": {
  "kernelspec": {
   "display_name": "plantain-nightly",
   "language": "python",
   "name": "python3"
  },
  "language_info": {
   "codemirror_mode": {
    "name": "ipython",
    "version": 3
   },
   "file_extension": ".py",
   "mimetype": "text/x-python",
   "name": "python",
   "nbconvert_exporter": "python",
   "pygments_lexer": "ipython3",
   "version": "3.10.11"
  },
  "orig_nbformat": 4
 },
 "nbformat": 4,
 "nbformat_minor": 2
}
