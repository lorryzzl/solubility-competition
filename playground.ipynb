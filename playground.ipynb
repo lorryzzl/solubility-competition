{
 "cells": [
  {
   "cell_type": "code",
   "execution_count": 134,
   "metadata": {},
   "outputs": [
    {
     "name": "stderr",
     "output_type": "stream",
     "text": [
      "Found local copy...\n",
      "Loading...\n",
      "Done!\n",
      "100%|██████████| 9982/9982 [00:03<00:00, 3280.65it/s]\n"
     ]
    },
    {
     "name": "stdout",
     "output_type": "stream",
     "text": [
      "(998, 1)\n",
      "The autoreload extension is already loaded. To reload it, use:\n",
      "  %reload_ext autoreload\n"
     ]
    }
   ],
   "source": [
    "%load_ext autoreload\n",
    "%autoreload 2"
   ]
  },
  {
   "cell_type": "code",
   "execution_count": 135,
   "metadata": {},
   "outputs": [],
   "source": [
    "from competition import *\n",
    "from sklearn.model_selection import train_test_split\n",
    "import seaborn as sns"
   ]
  },
  {
   "cell_type": "code",
   "execution_count": 136,
   "metadata": {},
   "outputs": [
    {
     "name": "stderr",
     "output_type": "stream",
     "text": [
      "Found local copy...\n",
      "Loading...\n",
      "Done!\n",
      "100%|██████████| 9982/9982 [00:02<00:00, 3417.24it/s]\n"
     ]
    }
   ],
   "source": [
    "data = get_data()"
   ]
  },
  {
   "cell_type": "code",
   "execution_count": 137,
   "metadata": {},
   "outputs": [],
   "source": [
    "# first process the training data\n",
    "train_data = data[\"train\"]\n",
    "X_train, Y_train = process_data(train_data)"
   ]
  },
  {
   "cell_type": "code",
   "execution_count": 138,
   "metadata": {},
   "outputs": [
    {
     "name": "stdout",
     "output_type": "stream",
     "text": [
      "Training results:\n",
      "  MSE: 1.2512483695812295\n",
      "  R2:  0.7531146799978474\n"
     ]
    }
   ],
   "source": [
    "# now train the model\n",
    "model = get_lin_model(X_train, Y_train)\n",
    "\n",
    "print(\"Training results:\")\n",
    "evaluate_lin_model(model, X_train, Y_train)"
   ]
  },
  {
   "cell_type": "code",
   "execution_count": 139,
   "metadata": {},
   "outputs": [
    {
     "name": "stdout",
     "output_type": "stream",
     "text": [
      "Results for split valid:\n",
      "  MSE: 5.689021940198508\n",
      "  R2:  0.2446886422579474\n"
     ]
    }
   ],
   "source": [
    "# now test the model on either the valid or test split\n",
    "# Only use the valid split when developing your model!\n",
    "# Once you use the test split, you must submit your score\n",
    "# immediately, regardless of its performance\n",
    "split_name = \"valid\"\n",
    "X_split, Y_split = process_data(data[split_name])\n",
    "print(f\"Results for split {split_name}:\")\n",
    "evaluate_lin_model(model, X_split, Y_split)"
   ]
  },
  {
   "cell_type": "code",
   "execution_count": 140,
   "metadata": {},
   "outputs": [
    {
     "name": "stderr",
     "output_type": "stream",
     "text": [
      "Found local copy...\n",
      "Loading...\n",
      "Done!\n",
      "100%|██████████| 9982/9982 [00:03<00:00, 3295.53it/s]\n"
     ]
    },
    {
     "name": "stdout",
     "output_type": "stream",
     "text": [
      "(998, 1)\n",
      "(1997, 1)\n"
     ]
    }
   ],
   "source": [
    "# Get data and train_val_test split\n",
    "data = get_data()\n",
    "# first train the model using the train data\n",
    "train_data = data[\"train\"]\n",
    "X_train, Y_train = process_data(train_data)\n",
    "split_name = \"valid\"\n",
    "X_val, Y_val = process_data(data[split_name])\n",
    "#X_val, X_test, Y_val, Y_test = train_test_split(X_split, Y_split, test_size=0.5, random_state=1)\n",
    "print(Y_val.shape)\n",
    "split_name = \"test\"\n",
    "X_test, Y_test = process_data(data[split_name])\n",
    "print(Y_test.shape)"
   ]
  },
  {
   "cell_type": "code",
   "execution_count": 141,
   "metadata": {},
   "outputs": [
    {
     "name": "stdout",
     "output_type": "stream",
     "text": [
      "  Alpha: 1\n",
      "  Train MSE: 1.2657664574054037\n",
      "  Train R2:  0.7502500986362028\n",
      "  Validation MSE: 4.956166570282892\n",
      "  Validation R2:  0.34198726235435783\n",
      "  Alpha: 5\n",
      "  Train MSE: 1.3516586007745037\n",
      "  Train R2:  0.733302616571992\n",
      "  Validation MSE: 4.140058753061286\n",
      "  Validation R2:  0.45033901595438797\n",
      "  Alpha: 10\n",
      "  Train MSE: 1.4359434379357818\n",
      "  Train R2:  0.7166722740278848\n",
      "  Validation MSE: 3.885323225560533\n",
      "  Validation R2:  0.48415935258944376\n",
      "  Alpha: 20\n",
      "  Train MSE: 1.5576458203600339\n",
      "  Train R2:  0.6926590306460838\n",
      "  Validation MSE: 3.7671861788912664\n",
      "  Validation R2:  0.4998439911894289\n",
      "  Alpha: 50\n",
      "  Train MSE: 1.781031133528785\n",
      "  Train R2:  0.6485826059599872\n",
      "  Validation MSE: 3.853183228108938\n",
      "  Validation R2:  0.4884264665798924\n",
      "  Alpha: 100\n",
      "  Train MSE: 1.997444266735025\n",
      "  Train R2:  0.6058818704839659\n",
      "  Validation MSE: 4.109468291093388\n",
      "  Validation R2:  0.4544004035893464\n",
      "Best Alpha is: 20\n",
      "Best R-square is: 0.4998439911894289\n",
      "Test R2: 0.46092411205476347\n"
     ]
    }
   ],
   "source": [
    "evaluate_ridge_model()"
   ]
  },
  {
   "cell_type": "code",
   "execution_count": 142,
   "metadata": {},
   "outputs": [
    {
     "name": "stdout",
     "output_type": "stream",
     "text": [
      "Epoch 1/20\n",
      "219/219 [==============================] - 1s 4ms/step - loss: 3.3553 - mse: 3.3553\n",
      "Epoch 2/20\n",
      "219/219 [==============================] - 1s 4ms/step - loss: 1.6980 - mse: 1.6980\n",
      "Epoch 3/20\n",
      "219/219 [==============================] - 1s 4ms/step - loss: 1.1965 - mse: 1.1965\n",
      "Epoch 4/20\n",
      "219/219 [==============================] - 1s 4ms/step - loss: 0.9698 - mse: 0.9698\n",
      "Epoch 5/20\n",
      "219/219 [==============================] - 1s 4ms/step - loss: 0.8218 - mse: 0.8218\n",
      "Epoch 6/20\n",
      "219/219 [==============================] - 1s 4ms/step - loss: 0.7294 - mse: 0.7294\n",
      "Epoch 7/20\n",
      "219/219 [==============================] - 1s 4ms/step - loss: 0.6823 - mse: 0.6823\n",
      "Epoch 8/20\n",
      "219/219 [==============================] - 1s 4ms/step - loss: 0.6199 - mse: 0.6199\n",
      "Epoch 9/20\n",
      "219/219 [==============================] - 1s 4ms/step - loss: 0.5808 - mse: 0.5808\n",
      "Epoch 10/20\n",
      "219/219 [==============================] - 1s 4ms/step - loss: 0.5327 - mse: 0.5327\n",
      "Epoch 11/20\n",
      "219/219 [==============================] - 1s 4ms/step - loss: 0.4999 - mse: 0.4999\n",
      "Epoch 12/20\n",
      "219/219 [==============================] - 1s 4ms/step - loss: 0.4876 - mse: 0.4876\n",
      "Epoch 13/20\n",
      "219/219 [==============================] - 1s 4ms/step - loss: 0.4741 - mse: 0.4741\n",
      "Epoch 14/20\n",
      "219/219 [==============================] - 1s 4ms/step - loss: 0.4516 - mse: 0.4516\n",
      "Epoch 15/20\n",
      "219/219 [==============================] - 1s 4ms/step - loss: 0.4554 - mse: 0.4554\n",
      "Epoch 16/20\n",
      "219/219 [==============================] - 1s 4ms/step - loss: 0.4238 - mse: 0.4238\n",
      "Epoch 17/20\n",
      "219/219 [==============================] - 1s 4ms/step - loss: 0.4145 - mse: 0.4145\n",
      "Epoch 18/20\n",
      "219/219 [==============================] - 1s 4ms/step - loss: 0.4089 - mse: 0.4089\n",
      "Epoch 19/20\n",
      "219/219 [==============================] - 1s 4ms/step - loss: 0.3997 - mse: 0.3997\n",
      "Epoch 20/20\n",
      "219/219 [==============================] - 1s 4ms/step - loss: 0.4022 - mse: 0.4022\n",
      "219/219 [==============================] - 1s 2ms/step\n",
      "Train R2: 0.9558552911641418\n",
      "32/32 [==============================] - 0s 2ms/step\n",
      "Val R2: 0.5980284166166941\n"
     ]
    }
   ],
   "source": [
    "evaluate_nn_model()"
   ]
  },
  {
   "cell_type": "code",
   "execution_count": 143,
   "metadata": {},
   "outputs": [
    {
     "name": "stdout",
     "output_type": "stream",
     "text": [
      "Epoch 1/20\n",
      "219/219 [==============================] - 1s 4ms/step - loss: 3.3204 - mse: 3.3204\n",
      "Epoch 2/20\n",
      "219/219 [==============================] - 1s 3ms/step - loss: 1.6979 - mse: 1.6979\n",
      "Epoch 3/20\n",
      "219/219 [==============================] - 1s 4ms/step - loss: 1.2325 - mse: 1.2325\n",
      "Epoch 4/20\n",
      "219/219 [==============================] - 1s 4ms/step - loss: 0.9762 - mse: 0.9762\n",
      "Epoch 5/20\n",
      "219/219 [==============================] - 1s 4ms/step - loss: 0.8347 - mse: 0.8347\n",
      "Epoch 6/20\n",
      "219/219 [==============================] - 1s 3ms/step - loss: 0.7183 - mse: 0.7183\n",
      "Epoch 7/20\n",
      "219/219 [==============================] - 1s 4ms/step - loss: 0.6444 - mse: 0.6444\n",
      "Epoch 8/20\n",
      "219/219 [==============================] - 1s 4ms/step - loss: 0.5968 - mse: 0.5968\n",
      "Epoch 9/20\n",
      "219/219 [==============================] - 1s 4ms/step - loss: 0.5647 - mse: 0.5647\n",
      "Epoch 10/20\n",
      "219/219 [==============================] - 1s 4ms/step - loss: 0.5311 - mse: 0.5311\n",
      "Epoch 11/20\n",
      "219/219 [==============================] - 1s 3ms/step - loss: 0.5146 - mse: 0.5146\n",
      "Epoch 12/20\n",
      "219/219 [==============================] - 1s 3ms/step - loss: 0.4830 - mse: 0.4830\n",
      "Epoch 13/20\n",
      "219/219 [==============================] - 1s 3ms/step - loss: 0.4842 - mse: 0.4842\n",
      "Epoch 14/20\n",
      "219/219 [==============================] - 1s 3ms/step - loss: 0.4642 - mse: 0.4642\n",
      "Epoch 15/20\n",
      "219/219 [==============================] - 1s 3ms/step - loss: 0.4526 - mse: 0.4526\n",
      "Epoch 16/20\n",
      "219/219 [==============================] - 1s 3ms/step - loss: 0.4271 - mse: 0.4271\n",
      "Epoch 17/20\n",
      "219/219 [==============================] - 1s 3ms/step - loss: 0.4226 - mse: 0.4226\n",
      "Epoch 18/20\n",
      "219/219 [==============================] - 1s 3ms/step - loss: 0.4103 - mse: 0.4103\n",
      "Epoch 19/20\n",
      "219/219 [==============================] - 1s 3ms/step - loss: 0.4193 - mse: 0.4193\n",
      "Epoch 20/20\n",
      "219/219 [==============================] - 1s 3ms/step - loss: 0.4011 - mse: 0.4011\n",
      "63/63 [==============================] - 0s 2ms/step\n",
      "Test R2: 0.5769226136566934\n"
     ]
    }
   ],
   "source": [
    "evaluate_nn_model_test()"
   ]
  },
  {
   "cell_type": "code",
   "execution_count": null,
   "metadata": {},
   "outputs": [],
   "source": []
  }
 ],
 "metadata": {
  "kernelspec": {
   "display_name": "plantain-nightly",
   "language": "python",
   "name": "python3"
  },
  "language_info": {
   "codemirror_mode": {
    "name": "ipython",
    "version": 3
   },
   "file_extension": ".py",
   "mimetype": "text/x-python",
   "name": "python",
   "nbconvert_exporter": "python",
   "pygments_lexer": "ipython3",
   "version": "3.9.7"
  },
  "orig_nbformat": 4
 },
 "nbformat": 4,
 "nbformat_minor": 2
}
